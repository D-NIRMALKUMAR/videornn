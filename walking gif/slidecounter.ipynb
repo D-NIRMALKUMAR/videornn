{
 "cells": [
  {
   "cell_type": "code",
   "execution_count": null,
   "metadata": {},
   "outputs": [],
   "source": [
    "import cv2\n",
    "from skimage.metrics import structural_similarity as compare_ssim\n",
    "\n",
    "def count_slides(video_path):\n",
    "    cap = cv2.VideoCapture(video_path)\n",
    "    ret, prev_frame = cap.read()\n",
    "    slide_count = 1  # Start counting with the first slide\n",
    "\n",
    "    while ret:\n",
    "        ret, curr_frame = cap.read()\n",
    "        if not ret:\n",
    "            break\n",
    "        \n",
    "        # Convert frames to grayscale\n",
    "        prev_gray = cv2.cvtColor(prev_frame, cv2.COLOR_BGR2GRAY)\n",
    "        curr_gray = cv2.cvtColor(curr_frame, cv2.COLOR_BGR2GRAY)\n",
    "        \n",
    "        # Compute Structural Similarity Index (SSI)\n",
    "        score, _ = compare_ssim(prev_gray, curr_gray, full=True)\n",
    "        \n",
    "        # If the similarity score is below a threshold, it's a new slide\n",
    "        if score < 0.8:  # You may need to adjust this threshold\n",
    "            slide_count += 1\n",
    "            prev_frame = curr_frame  # Update to the next distinct frame\n",
    "\n",
    "    cap.release()\n",
    "    return slide_count\n",
    "\n",
    "# Usage\n",
    "video_path = 'your_video.mp4'\n",
    "slides = count_slides(video_path)\n",
    "print(f\"Number of slides in the video: {slides}\")\n"
   ]
  }
 ],
 "metadata": {
  "kernelspec": {
   "display_name": "Python 3",
   "language": "python",
   "name": "python3"
  },
  "language_info": {
   "name": "python",
   "version": "3.12.0"
  }
 },
 "nbformat": 4,
 "nbformat_minor": 2
}
