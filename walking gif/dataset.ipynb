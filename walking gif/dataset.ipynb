{
 "cells": [
  {
   "cell_type": "code",
   "execution_count": 10,
   "metadata": {},
   "outputs": [
    {
     "name": "stderr",
     "output_type": "stream",
     "text": [
      "\n",
      "\n",
      "\u001b[A\u001b[A                                                           \n",
      "\u001b[A\n",
      "\n",
      "\u001b[A\u001b[A                                                           \n",
      "\u001b[A"
     ]
    },
    {
     "name": "stdout",
     "output_type": "stream",
     "text": [
      "Moviepy - Building video dataset/input_video.mp4.\n",
      "Moviepy - Writing video dataset/input_video.mp4\n",
      "\n"
     ]
    },
    {
     "name": "stderr",
     "output_type": "stream",
     "text": [
      "t:   0%|          | 0/1440 [00:00<?, ?it/s, now=None]"
     ]
    },
    {
     "name": "stderr",
     "output_type": "stream",
     "text": [
      "                                                                  \n",
      "\n",
      "\u001b[A\u001b[A                                                           \n",
      "\u001b[A\n",
      "\n",
      "\u001b[A\u001b[A                                                           \n",
      "\u001b[A"
     ]
    },
    {
     "name": "stdout",
     "output_type": "stream",
     "text": [
      "Moviepy - Done !\n",
      "Moviepy - video ready dataset/input_video.mp4\n"
     ]
    }
   ],
   "source": [
    "from moviepy.editor import ImageClip\n",
    "\n",
    "# Load the image\n",
    "image_clip = ImageClip(\"w6/frame_1.png\")\n",
    "\n",
    "# Set the duration of the video to 60 seconds\n",
    "image_clip = image_clip.set_duration(60)\n",
    "\n",
    "# Set the frame rate (fps)\n",
    "image_clip = image_clip.set_fps(24)\n",
    "\n",
    "# Export the video as an MP4 file\n",
    "image_clip.write_videofile(\"dataset/input_video.mp4\", codec=\"libx264\")"
   ]
  },
  {
   "cell_type": "code",
   "execution_count": 11,
   "metadata": {},
   "outputs": [
    {
     "name": "stderr",
     "output_type": "stream",
     "text": [
      "\n",
      "\n",
      "\u001b[A\u001b[A                                                           \n",
      "\u001b[A\n",
      "\n",
      "\u001b[A\u001b[A                                                           \n",
      "\u001b[A"
     ]
    },
    {
     "name": "stdout",
     "output_type": "stream",
     "text": [
      "Moviepy - Building video dataset/output_video.mp4.\n",
      "Moviepy - Writing video dataset/output_video.mp4\n",
      "\n"
     ]
    },
    {
     "name": "stderr",
     "output_type": "stream",
     "text": [
      "                                                                 \n",
      "\n",
      "\u001b[A\u001b[A                                                           \n",
      "\u001b[A\n",
      "\n",
      "\u001b[A\u001b[A                                                           \n",
      "\u001b[A"
     ]
    },
    {
     "name": "stdout",
     "output_type": "stream",
     "text": [
      "Moviepy - Done !\n",
      "Moviepy - video ready dataset/output_video.mp4\n"
     ]
    }
   ],
   "source": [
    "from moviepy.editor import *\n",
    "\n",
    "# Load the GIF file\n",
    "gif_clip = VideoFileClip(\"w6.gif\")\n",
    "\n",
    "# Calculate the number of times to loop the GIF to reach 1 minute (60 seconds)\n",
    "loop_count = int(60 / gif_clip.duration)\n",
    "\n",
    "# Repeat the GIF clip\n",
    "video_clip = concatenate_videoclips([gif_clip] * loop_count)\n",
    "\n",
    "# Set the final duration to 1 minute (in case it slightly exceeds due to rounding)\n",
    "video_clip = video_clip.subclip(0, 60)\n",
    "\n",
    "# Export the video as MP4\n",
    "video_clip.write_videofile(\"dataset/output_video.mp4\", codec=\"libx264\", fps=24)"
   ]
  }
 ],
 "metadata": {
  "kernelspec": {
   "display_name": "Python 3",
   "language": "python",
   "name": "python3"
  },
  "language_info": {
   "codemirror_mode": {
    "name": "ipython",
    "version": 3
   },
   "file_extension": ".py",
   "mimetype": "text/x-python",
   "name": "python",
   "nbconvert_exporter": "python",
   "pygments_lexer": "ipython3",
   "version": "3.12.0"
  }
 },
 "nbformat": 4,
 "nbformat_minor": 2
}
