{
 "cells": [
  {
   "cell_type": "code",
   "execution_count": 1,
   "metadata": {},
   "outputs": [
    {
     "name": "stdout",
     "output_type": "stream",
     "text": [
      "Saved output_images_folder\\frame_1.png\n",
      "Saved output_images_folder\\frame_2.png\n",
      "Saved output_images_folder\\frame_3.png\n",
      "Saved output_images_folder\\frame_4.png\n",
      "Saved output_images_folder\\frame_5.png\n",
      "Saved output_images_folder\\frame_6.png\n",
      "Saved output_images_folder\\frame_7.png\n",
      "Saved output_images_folder\\frame_8.png\n",
      "Saved output_images_folder\\frame_9.png\n",
      "Saved output_images_folder\\frame_10.png\n",
      "Saved output_images_folder\\frame_11.png\n",
      "Saved output_images_folder\\frame_12.png\n"
     ]
    }
   ],
   "source": [
    "from PIL import Image\n",
    "import os\n",
    "\n",
    "def gif_to_images(gif_path, output_folder):\n",
    "    # Open the GIF file\n",
    "    with Image.open(gif_path) as gif:\n",
    "        # Create the output folder if it doesn't exist\n",
    "        os.makedirs(output_folder, exist_ok=True)\n",
    "\n",
    "        # Loop through each frame in the GIF\n",
    "        for frame_number in range(gif.n_frames):\n",
    "            # Select the frame\n",
    "            gif.seek(frame_number)\n",
    "            # Save the frame as a separate image file\n",
    "            frame_path = os.path.join(output_folder, f\"frame_{frame_number + 1}.png\")\n",
    "            gif.save(frame_path, \"PNG\")\n",
    "            print(f\"Saved {frame_path}\")\n",
    "\n",
    "# Usage example\n",
    "gif_to_images(\"w6.gif\", \"output_images_folder\")\n"
   ]
  },
  {
   "cell_type": "code",
   "execution_count": null,
   "metadata": {},
   "outputs": [],
   "source": []
  }
 ],
 "metadata": {
  "kernelspec": {
   "display_name": "Python 3",
   "language": "python",
   "name": "python3"
  },
  "language_info": {
   "codemirror_mode": {
    "name": "ipython",
    "version": 3
   },
   "file_extension": ".py",
   "mimetype": "text/x-python",
   "name": "python",
   "nbconvert_exporter": "python",
   "pygments_lexer": "ipython3",
   "version": "3.12.0"
  }
 },
 "nbformat": 4,
 "nbformat_minor": 2
}
