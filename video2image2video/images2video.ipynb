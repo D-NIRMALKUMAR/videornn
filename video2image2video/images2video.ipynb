{
 "cells": [
  {
   "cell_type": "code",
   "execution_count": 1,
   "metadata": {},
   "outputs": [
    {
     "name": "stdout",
     "output_type": "stream",
     "text": [
      "Created video output_video.mp4 from images in output_images\n"
     ]
    }
   ],
   "source": [
    "import cv2\n",
    "import os\n",
    "\n",
    "# Function to create a video from images\n",
    "def images_to_video(image_folder, output_video_path, fps=30):\n",
    "    # Get images from the folder\n",
    "    images = [img for img in os.listdir(image_folder) if img.endswith(\".jpg\")]\n",
    "    images.sort()  # Sort images if needed\n",
    "\n",
    "    # Read the first image to get the size\n",
    "    first_image = cv2.imread(os.path.join(image_folder, images[0]))\n",
    "    height, width, layers = first_image.shape\n",
    "\n",
    "    # Create a video writer object\n",
    "    fourcc = cv2.VideoWriter_fourcc(*'mp4v')  # Use 'XVID' for .avi format\n",
    "    video = cv2.VideoWriter(output_video_path, fourcc, fps, (width, height))\n",
    "\n",
    "    for image in images:\n",
    "        img_path = os.path.join(image_folder, image)\n",
    "        video.write(cv2.imread(img_path))\n",
    "\n",
    "    video.release()\n",
    "    print(f\"Created video {output_video_path} from images in {image_folder}\")\n",
    "\n",
    "# Example usage\n",
    "images_to_video('output_images', 'output_video.mp4', fps=30)\n"
   ]
  }
 ],
 "metadata": {
  "kernelspec": {
   "display_name": "Python 3",
   "language": "python",
   "name": "python3"
  },
  "language_info": {
   "codemirror_mode": {
    "name": "ipython",
    "version": 3
   },
   "file_extension": ".py",
   "mimetype": "text/x-python",
   "name": "python",
   "nbconvert_exporter": "python",
   "pygments_lexer": "ipython3",
   "version": "3.12.0"
  }
 },
 "nbformat": 4,
 "nbformat_minor": 2
}
